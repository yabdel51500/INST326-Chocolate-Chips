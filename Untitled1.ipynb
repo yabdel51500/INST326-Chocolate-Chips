{
 "cells": [
  {
   "cell_type": "code",
   "execution_count": 6,
   "id": "c98f9071",
   "metadata": {},
   "outputs": [
    {
     "name": "stdout",
     "output_type": "stream",
     "text": [
      "<pyecharts.render.display.HTML object at 0x7fc30d9663a0>\n"
     ]
    }
   ],
   "source": [
    "import pandas as pd\n",
    "from pyecharts.charts import Map,Geo\n",
    "from pyecharts import options as opts\n",
    "from pyecharts.globals import ThemeType\n",
    "from argparse import ArgumentParser\n",
    "import sys\n",
    "\n",
    "df1 = pd.read_csv(\"covid.csv\")\n",
    "df1['date'] = pd.to_datetime(df1['date'])\n",
    "df2 = df1.sort_values(by = ['date'], ascending = False)\n",
    "df3 = df2[df2['date'] == '2021-10-25']\n",
    "df3.reset_index(drop = True, inplace = True)\n",
    "\n",
    "country = list(df3['location'])\n",
    "totalvax=list(df3['people_fully_vaccinated_per_hundred'])\n",
    "\n",
    "list1 = [[country[i],totalvax[i]] for i in range(len(country))] \n",
    "\n",
    "map1 = Map(init_opts=opts.InitOpts(width='1000px', height='460px')) #create the map and set the size of the map\n",
    "map1.add('Total Confirmed Cases', list1, maptype='world')\n",
    "map1.set_series_opts(label_opts=opts.LabelOpts(is_show = False)) \n",
    "\n",
    "map1.set_global_opts(visualmap_opts=opts.VisualMapOpts(max_=100 , is_piecewise = True, pieces=[\n",
    "{'min': 100},\n",
    "{'min': 80, 'max': 99.99},\n",
    "{'min': 50, 'max': 79.99},\n",
    "{'min': 30, 'max': 49.99},\n",
    "{'min': .0001, 'max': 29.99},\n",
    "{'max': 0},]),\n",
    "title_opts=opts.TitleOpts(title= \"Covid-19 Worldwide Total Vaccinations INST326 Final\", subtitle= 'Till October 20th, 2021', pos_left= 'center', padding=0, item_gap=2,\n",
    "title_textstyle_opts= opts.TextStyleOpts(color='blue', font_weight= 'bold', font_family= 'Courier New', font_size=30), \n",
    "subtitle_textstyle_opts= opts.TextStyleOpts(color='black', font_weight='bold', font_family='Courier New', font_size=20)), \n",
    "legend_opts=opts.LegendOpts(is_show=False))\n",
    "print(map1.render_notebook())"
   ]
  },
  {
   "cell_type": "code",
   "execution_count": null,
   "id": "1dd24dd9",
   "metadata": {},
   "outputs": [],
   "source": []
  }
 ],
 "metadata": {
  "kernelspec": {
   "display_name": "Python 3 (ipykernel)",
   "language": "python",
   "name": "python3"
  },
  "language_info": {
   "codemirror_mode": {
    "name": "ipython",
    "version": 3
   },
   "file_extension": ".py",
   "mimetype": "text/x-python",
   "name": "python",
   "nbconvert_exporter": "python",
   "pygments_lexer": "ipython3",
   "version": "3.9.1"
  }
 },
 "nbformat": 4,
 "nbformat_minor": 5
}
